{
 "cells": [
  {
   "cell_type": "code",
   "execution_count": 19,
   "id": "ee165260-5354-4ee8-9688-3a080052cc30",
   "metadata": {},
   "outputs": [
    {
     "name": "stdout",
     "output_type": "stream",
     "text": [
      "Requirement already satisfied: pyspark in c:\\users\\ignac\\appdata\\local\\programs\\python\\python313\\lib\\site-packages (3.5.4)\n",
      "Requirement already satisfied: kafka-python in c:\\users\\ignac\\appdata\\local\\programs\\python\\python313\\lib\\site-packages (2.1.2)\n",
      "Requirement already satisfied: pandas in c:\\users\\ignac\\appdata\\local\\programs\\python\\python313\\lib\\site-packages (2.2.3)\n",
      "Requirement already satisfied: matplotlib in c:\\users\\ignac\\appdata\\local\\programs\\python\\python313\\lib\\site-packages (3.10.1)\n",
      "Requirement already satisfied: py4j==0.10.9.7 in c:\\users\\ignac\\appdata\\local\\programs\\python\\python313\\lib\\site-packages (from pyspark) (0.10.9.7)\n",
      "Requirement already satisfied: numpy>=1.26.0 in c:\\users\\ignac\\appdata\\local\\programs\\python\\python313\\lib\\site-packages (from pandas) (2.2.4)\n",
      "Requirement already satisfied: python-dateutil>=2.8.2 in c:\\users\\ignac\\appdata\\local\\programs\\python\\python313\\lib\\site-packages (from pandas) (2.9.0.post0)\n",
      "Requirement already satisfied: pytz>=2020.1 in c:\\users\\ignac\\appdata\\local\\programs\\python\\python313\\lib\\site-packages (from pandas) (2025.2)\n",
      "Requirement already satisfied: tzdata>=2022.7 in c:\\users\\ignac\\appdata\\local\\programs\\python\\python313\\lib\\site-packages (from pandas) (2025.2)\n",
      "Requirement already satisfied: contourpy>=1.0.1 in c:\\users\\ignac\\appdata\\local\\programs\\python\\python313\\lib\\site-packages (from matplotlib) (1.3.1)\n",
      "Requirement already satisfied: cycler>=0.10 in c:\\users\\ignac\\appdata\\local\\programs\\python\\python313\\lib\\site-packages (from matplotlib) (0.12.1)\n",
      "Requirement already satisfied: fonttools>=4.22.0 in c:\\users\\ignac\\appdata\\local\\programs\\python\\python313\\lib\\site-packages (from matplotlib) (4.56.0)\n",
      "Requirement already satisfied: kiwisolver>=1.3.1 in c:\\users\\ignac\\appdata\\local\\programs\\python\\python313\\lib\\site-packages (from matplotlib) (1.4.8)\n",
      "Requirement already satisfied: packaging>=20.0 in c:\\users\\ignac\\appdata\\local\\programs\\python\\python313\\lib\\site-packages (from matplotlib) (24.2)\n",
      "Requirement already satisfied: pillow>=8 in c:\\users\\ignac\\appdata\\local\\programs\\python\\python313\\lib\\site-packages (from matplotlib) (11.1.0)\n",
      "Requirement already satisfied: pyparsing>=2.3.1 in c:\\users\\ignac\\appdata\\local\\programs\\python\\python313\\lib\\site-packages (from matplotlib) (3.2.3)\n",
      "Requirement already satisfied: six>=1.5 in c:\\users\\ignac\\appdata\\local\\programs\\python\\python313\\lib\\site-packages (from python-dateutil>=2.8.2->pandas) (1.17.0)\n"
     ]
    }
   ],
   "source": [
    "# Primero, en la primera celda del notebook puedes instalar las bibliotecas necesarias (si aún no están instaladas):\n",
    "\n",
    "!pip install pyspark kafka-python pandas matplotlib\n",
    "\n",
    "from pyspark.sql import SparkSession\n",
    "from pyspark.sql.functions import col, count, window, desc, lag, avg, stddev, min, max, sum, approx_count_distinct\n",
    "from pyspark.sql.window import Window\n",
    "\n",
    "import os\n",
    "import csv\n",
    "import random\n",
    "import datetime"
   ]
  },
  {
   "cell_type": "code",
   "execution_count": 20,
   "id": "4ff0a86e-d35b-40df-ac45-1e28baa897fb",
   "metadata": {},
   "outputs": [],
   "source": [
    "\n",
    "\n",
    "# Lista de posibles tipos de eventos con una distribución realista\n",
    "event_types = [\n",
    "    ('INFO', 0.6),  # 60% de logs informativos\n",
    "    ('WARNING', 0.15),  # 15% de advertencias\n",
    "    ('ERROR', 0.1),  # 10% de errores\n",
    "    ('DEBUG', 0.1),  # 10% de depuración\n",
    "    ('LOGIN_FAILURE', 0.05)  # 5% de intentos de acceso fallidos\n",
    "]\n",
    "\n",
    "# Lista de posibles usuarios y direcciones IPs\n",
    "users = ['admin', 'user1', 'user2', 'guest', 'root', 'test']\n",
    "ips = [\n",
    "    '192.168.1.10', '192.168.1.15', '10.0.0.1', '172.16.0.2',\n",
    "    '203.0.113.45', '8.8.8.8', '185.199.108.153'\n",
    "]\n",
    "\n",
    "# Función para elegir un tipo de evento basado en la distribución de probabilidad\n",
    "def choose_event_type():\n",
    "    return random.choices([e[0] for e in event_types], weights=[e[1] for e in event_types])[0]\n",
    "\n",
    "# Función para generar un log aleatorio\n",
    "def generate_log():\n",
    "    timestamp = datetime.datetime.now().strftime('%Y-%m-%d %H:%M:%S')\n",
    "    event_type = choose_event_type()\n",
    "    user = random.choice(users)\n",
    "    ip = random.choice(ips)\n",
    "    \n",
    "    if event_type == 'LOGIN_FAILURE':\n",
    "        message = f\"Intento de acceso fallido para usuario {user} desde {ip}\"\n",
    "    elif event_type == 'ERROR':\n",
    "        message = f\"Error critico en el sistema detectado por el usuario {user}\"\n",
    "    elif event_type == 'WARNING':\n",
    "        message = f\"Posible anomalia detectada desde la IP {ip}\"\n",
    "    elif event_type == 'DEBUG':\n",
    "        message = f\"Modo depuraciin activo por usuario {user}\"\n",
    "    else:  # INFO\n",
    "        message = f\"Evento normal registrado para usuario {user} desde {ip}\"\n",
    "    \n",
    "    return [timestamp, event_type, user, ip, message]\n",
    "\n",
    "# Función para generar múltiples logs y guardarlos en un archivo CSV\n",
    "def generate_logs(file_path=\"logs/log.csv\", num_logs=200):\n",
    "    folder = os.path.dirname(file_path)\n",
    "    if not os.path.exists(folder):\n",
    "        os.makedirs(folder)\n",
    "    \n",
    "    with open(file_path, mode='w', newline='') as file:\n",
    "        writer = csv.writer(file)\n",
    "        writer.writerow(['timestamp', 'event_type', 'user', 'ip', 'message'])\n",
    "        \n",
    "        for _ in range(num_logs):\n",
    "            writer.writerow(generate_log())\n",
    "\n",
    "# Ejecutar la generación de logs\n",
    "generate_logs(\"logs/log.csv\")\n"
   ]
  },
  {
   "cell_type": "code",
   "execution_count": 21,
   "id": "9b5bda23-2e9d-45ba-b2a8-695417346c29",
   "metadata": {},
   "outputs": [
    {
     "name": "stdout",
     "output_type": "stream",
     "text": [
      "3.5.4\n"
     ]
    }
   ],
   "source": [
    "# La siguiente celda es para configurar la sesión de Spark y verificar que todo esté listo:\n",
    "\n",
    "from pyspark.sql import SparkSession\n",
    "\n",
    "# Crea una sesión de Spark\n",
    "spark = SparkSession.builder \\\n",
    "    .appName(\"SIEM with Spark in Jupyter\") \\\n",
    "    .getOrCreate()\n",
    "\n",
    "# Verifica que Spark está funcionando correctamente\n",
    "print(spark.version)\n"
   ]
  },
  {
   "cell_type": "code",
   "execution_count": 22,
   "id": "16302b43-351e-4c27-b12b-edb1997e85ae",
   "metadata": {},
   "outputs": [
    {
     "name": "stdout",
     "output_type": "stream",
     "text": [
      "+-------------------+----------+-----+---------------+--------------------+\n",
      "|          timestamp|event_type| user|             ip|             message|\n",
      "+-------------------+----------+-----+---------------+--------------------+\n",
      "|2025-04-02 18:50:45|   WARNING|guest|   192.168.1.10|Posible anomalia ...|\n",
      "|2025-04-02 18:50:45|   WARNING|admin|185.199.108.153|Posible anomalia ...|\n",
      "|2025-04-02 18:50:45|     ERROR|admin|        8.8.8.8|Error critico en ...|\n",
      "|2025-04-02 18:50:45|      INFO|guest|   192.168.1.10|Evento normal reg...|\n",
      "|2025-04-02 18:50:45|   WARNING|admin|185.199.108.153|Posible anomalia ...|\n",
      "+-------------------+----------+-----+---------------+--------------------+\n",
      "only showing top 5 rows\n",
      "\n"
     ]
    }
   ],
   "source": [
    "\n",
    "def read_logs_from_csv(file_path=\"logs/log.csv\"):\n",
    "    df = spark.read.option(\"header\", \"true\").csv(file_path)\n",
    "    df.show(5)\n",
    "    return df\n",
    "\n",
    "df = read_logs_from_csv(\"logs/log.csv\")\n"
   ]
  },
  {
   "cell_type": "code",
   "execution_count": 23,
   "id": "7275e958-9f85-4173-aa8e-e1a4c0b84d3e",
   "metadata": {},
   "outputs": [
    {
     "name": "stdout",
     "output_type": "stream",
     "text": [
      "+-------------+-----+\n",
      "|   event_type|count|\n",
      "+-------------+-----+\n",
      "|         INFO|  112|\n",
      "|      WARNING|   30|\n",
      "|        ERROR|   22|\n",
      "|        DEBUG|   22|\n",
      "|LOGIN_FAILURE|   14|\n",
      "+-------------+-----+\n",
      "\n"
     ]
    }
   ],
   "source": [
    "\n",
    "# Conteo de eventos por tipo\n",
    "def count_events(df):\n",
    "    return df.groupBy(\"event_type\").count().orderBy(desc(\"count\"))\n",
    "\n",
    "count_events(df).show()\n"
   ]
  },
  {
   "cell_type": "code",
   "execution_count": 24,
   "id": "cd103aa2-9ae6-49ad-8159-a477e8ed8d9c",
   "metadata": {},
   "outputs": [
    {
     "name": "stdout",
     "output_type": "stream",
     "text": [
      "+-----+-----+\n",
      "| user|count|\n",
      "+-----+-----+\n",
      "|guest|   42|\n",
      "| root|   39|\n",
      "|user1|   39|\n",
      "|user2|   31|\n",
      "|admin|   31|\n",
      "| test|   18|\n",
      "+-----+-----+\n",
      "\n"
     ]
    }
   ],
   "source": [
    "\n",
    "# Conteo de eventos por usuario\n",
    "def count_users(df):\n",
    "    return df.groupBy(\"user\").count().orderBy(desc(\"count\"))\n",
    "\n",
    "count_users(df).show()\n"
   ]
  },
  {
   "cell_type": "code",
   "execution_count": 25,
   "id": "dd5fc5e2-5d71-486b-828a-e4c650dfc85a",
   "metadata": {},
   "outputs": [
    {
     "name": "stdout",
     "output_type": "stream",
     "text": [
      "+-----+-----+\n",
      "| user|count|\n",
      "+-----+-----+\n",
      "|admin|    8|\n",
      "|guest|    8|\n",
      "|user1|    7|\n",
      "|user2|    6|\n",
      "| root|    5|\n",
      "| test|    2|\n",
      "+-----+-----+\n",
      "\n"
     ]
    }
   ],
   "source": [
    "\n",
    "# Detectar usuarios con alta cantidad de errores o fallos de login\n",
    "def detect_anomalous_users(df):\n",
    "    return df.filter((col(\"event_type\") == \"ERROR\") | (col(\"event_type\") == \"LOGIN_FAILURE\")) \\\n",
    "             .groupBy(\"user\").count().orderBy(desc(\"count\"))\n",
    "\n",
    "detect_anomalous_users(df).show()\n"
   ]
  },
  {
   "cell_type": "code",
   "execution_count": 26,
   "id": "8c1dc9a6-8ba9-4822-8c13-bd1a3730e6a1",
   "metadata": {},
   "outputs": [
    {
     "name": "stdout",
     "output_type": "stream",
     "text": [
      "+--------------------+-------------+-----+\n",
      "|              window|   event_type|count|\n",
      "+--------------------+-------------+-----+\n",
      "|{2025-04-02 18:00...|      WARNING|   30|\n",
      "|{2025-04-02 18:00...|        ERROR|   22|\n",
      "|{2025-04-02 18:00...|        DEBUG|   22|\n",
      "|{2025-04-02 18:00...|LOGIN_FAILURE|   14|\n",
      "|{2025-04-02 18:00...|         INFO|  112|\n",
      "+--------------------+-------------+-----+\n",
      "\n"
     ]
    }
   ],
   "source": [
    "\n",
    "# Análisis de eventos en el tiempo\n",
    "def analyze_time_distribution(df):\n",
    "    df = df.withColumn(\"timestamp\", col(\"timestamp\").cast(\"timestamp\"))\n",
    "    return df.groupBy(window(col(\"timestamp\"), \"1 hour\"), \"event_type\").count()\n",
    "\n",
    "analyze_time_distribution(df).show()\n"
   ]
  },
  {
   "cell_type": "code",
   "execution_count": 27,
   "id": "969457fd-b738-490d-b5d0-d4a6b798b62a",
   "metadata": {},
   "outputs": [
    {
     "name": "stdout",
     "output_type": "stream",
     "text": [
      "+-------------------+-------------+-----+---------------+--------------------+-------------+\n",
      "|          timestamp|   event_type| user|             ip|             message|   prev_event|\n",
      "+-------------------+-------------+-----+---------------+--------------------+-------------+\n",
      "|2025-04-02 18:50:45|      WARNING|admin|185.199.108.153|Posible anomalia ...|         NULL|\n",
      "|2025-04-02 18:50:45|        ERROR|admin|        8.8.8.8|Error critico en ...|      WARNING|\n",
      "|2025-04-02 18:50:45|      WARNING|admin|185.199.108.153|Posible anomalia ...|        ERROR|\n",
      "|2025-04-02 18:50:45|        DEBUG|admin|   203.0.113.45|Modo depuraciin a...|      WARNING|\n",
      "|2025-04-02 18:50:45|         INFO|admin|       10.0.0.1|Evento normal reg...|        DEBUG|\n",
      "|2025-04-02 18:50:45|        ERROR|admin|     172.16.0.2|Error critico en ...|         INFO|\n",
      "|2025-04-02 18:50:45|         INFO|admin|        8.8.8.8|Evento normal reg...|        ERROR|\n",
      "|2025-04-02 18:50:45|      WARNING|admin|   192.168.1.15|Posible anomalia ...|         INFO|\n",
      "|2025-04-02 18:50:45|        DEBUG|admin|     172.16.0.2|Modo depuraciin a...|      WARNING|\n",
      "|2025-04-02 18:50:45|         INFO|admin|   192.168.1.15|Evento normal reg...|        DEBUG|\n",
      "|2025-04-02 18:50:45|        ERROR|admin|   192.168.1.10|Error critico en ...|         INFO|\n",
      "|2025-04-02 18:50:45|      WARNING|admin|   192.168.1.15|Posible anomalia ...|        ERROR|\n",
      "|2025-04-02 18:50:45|         INFO|admin|185.199.108.153|Evento normal reg...|      WARNING|\n",
      "|2025-04-02 18:50:45|         INFO|admin|185.199.108.153|Evento normal reg...|         INFO|\n",
      "|2025-04-02 18:50:45|         INFO|admin|     172.16.0.2|Evento normal reg...|         INFO|\n",
      "|2025-04-02 18:50:45|         INFO|admin|   192.168.1.10|Evento normal reg...|         INFO|\n",
      "|2025-04-02 18:50:45|LOGIN_FAILURE|admin|     172.16.0.2|Intento de acceso...|         INFO|\n",
      "|2025-04-02 18:50:45|        ERROR|admin|     172.16.0.2|Error critico en ...|LOGIN_FAILURE|\n",
      "|2025-04-02 18:50:45|         INFO|admin|   192.168.1.10|Evento normal reg...|        ERROR|\n",
      "|2025-04-02 18:50:45|         INFO|admin|185.199.108.153|Evento normal reg...|         INFO|\n",
      "+-------------------+-------------+-----+---------------+--------------------+-------------+\n",
      "only showing top 20 rows\n",
      "\n"
     ]
    }
   ],
   "source": [
    "\n",
    "# Detección de patrones de actividad sospechosa\n",
    "def detect_suspicious_patterns(df):\n",
    "    window_spec = Window.partitionBy(\"user\").orderBy(\"timestamp\")\n",
    "    return df.withColumn(\"prev_event\", lag(\"event_type\").over(window_spec))\n",
    "\n",
    "detect_suspicious_patterns(df).show()\n"
   ]
  },
  {
   "cell_type": "code",
   "execution_count": 28,
   "id": "d0fe997d-2402-4e8f-a151-e8d186092f02",
   "metadata": {},
   "outputs": [
    {
     "name": "stdout",
     "output_type": "stream",
     "text": [
      "+------------------+-----------------+----------+----------+\n",
      "|        avg_events|    stddev_events|min_events|max_events|\n",
      "+------------------+-----------------+----------+----------+\n",
      "|33.333333333333336|8.778762251403478|        18|        42|\n",
      "+------------------+-----------------+----------+----------+\n",
      "\n"
     ]
    }
   ],
   "source": [
    "\n",
    "# Estadísticas por usuario\n",
    "def user_statistics(df):\n",
    "    user_events = df.groupBy(\"user\").agg(count(\"event_type\").alias(\"total_events\"))\n",
    "    return user_events.agg(\n",
    "        avg(\"total_events\").alias(\"avg_events\"),\n",
    "        stddev(\"total_events\").alias(\"stddev_events\"),\n",
    "        min(\"total_events\").alias(\"min_events\"),\n",
    "        max(\"total_events\").alias(\"max_events\")\n",
    "    )\n",
    "\n",
    "user_stats = user_statistics(df)\n",
    "user_stats.show()\n"
   ]
  },
  {
   "cell_type": "code",
   "execution_count": 30,
   "id": "cfb6ea16-7072-4130-9ac9-a058fb743ddb",
   "metadata": {},
   "outputs": [
    {
     "name": "stdout",
     "output_type": "stream",
     "text": [
      "+-----------------+----------+----+----------+\n",
      "|failed_login_time|error_time|user|event_type|\n",
      "+-----------------+----------+----+----------+\n",
      "+-----------------+----------+----+----------+\n",
      "\n"
     ]
    }
   ],
   "source": [
    "\n",
    "# Correlación entre intentos de login fallidos y errores\n",
    "def correlate_failed_logins_errors(df):\n",
    "    failed_logins = df.filter(col(\"event_type\") == \"LOGIN_FAILURE\").alias(\"fl\")\n",
    "    df_alias = df.alias(\"df\")\n",
    "    \n",
    "    return failed_logins.join(\n",
    "        df_alias, \n",
    "        (col(\"fl.user\") == col(\"df.user\")) & (col(\"fl.timestamp\") < col(\"df.timestamp\")),\n",
    "        \"inner\"\n",
    "    ).filter(col(\"df.event_type\") == \"ERROR\").select(\n",
    "        col(\"fl.timestamp\").alias(\"failed_login_time\"),\n",
    "        col(\"df.timestamp\").alias(\"error_time\"),\n",
    "        col(\"fl.user\"),\n",
    "        col(\"df.event_type\")\n",
    "    )\n",
    "\n",
    "correlate_failed_logins_errors(df).show()\n"
   ]
  },
  {
   "cell_type": "code",
   "execution_count": 31,
   "id": "2efd785e-1f45-47c7-8340-d256fb7f85f0",
   "metadata": {},
   "outputs": [
    {
     "name": "stdout",
     "output_type": "stream",
     "text": [
      "+---------------+-----+\n",
      "|             ip|count|\n",
      "+---------------+-----+\n",
      "|     172.16.0.2|    3|\n",
      "|   192.168.1.15|    3|\n",
      "|       10.0.0.1|    3|\n",
      "|   203.0.113.45|    3|\n",
      "|   192.168.1.10|    1|\n",
      "|185.199.108.153|    1|\n",
      "+---------------+-----+\n",
      "\n"
     ]
    }
   ],
   "source": [
    "\n",
    "# Detectar direcciones IP con múltiples intentos fallidos\n",
    "def detect_dangerous_ips(df):\n",
    "    return df.filter(col(\"event_type\") == \"LOGIN_FAILURE\").groupBy(\"ip\").count().orderBy(desc(\"count\"))\n",
    "\n",
    "detect_dangerous_ips(df).show()\n"
   ]
  },
  {
   "cell_type": "code",
   "execution_count": 33,
   "id": "52d4b4fc-75b0-4086-9cef-c571020c2aa5",
   "metadata": {},
   "outputs": [
    {
     "ename": "AnalysisException",
     "evalue": "[UNRESOLVED_COLUMN.WITH_SUGGESTION] A column or function parameter with name `total_events` cannot be resolved. Did you mean one of the following? [`max_events`, `avg_events`, `min_events`, `stddev_events`].;\n'Aggregate [unresolvedalias(avg('total_events), Some(org.apache.spark.sql.Column$$Lambda$2866/0x0000000101024428@708a37cc))]\n+- Aggregate [avg(total_events#540L) AS avg_events#544, stddev(cast(total_events#540L as double)) AS stddev_events#545, min(total_events#540L) AS min_events#547L, max(total_events#540L) AS max_events#549L]\n   +- Aggregate [user#363], [user#363, count(event_type#362) AS total_events#540L]\n      +- Relation [timestamp#361,event_type#362,user#363,ip#364,message#365] csv\n",
     "output_type": "error",
     "traceback": [
      "\u001b[31m---------------------------------------------------------------------------\u001b[39m",
      "\u001b[31mAnalysisException\u001b[39m                         Traceback (most recent call last)",
      "\u001b[36mCell\u001b[39m\u001b[36m \u001b[39m\u001b[32mIn[33]\u001b[39m\u001b[32m, line 6\u001b[39m\n\u001b[32m      3\u001b[39m     thresh = user_stats.select(avg(\u001b[33m\"\u001b[39m\u001b[33mtotal_events\u001b[39m\u001b[33m\"\u001b[39m)).collect()[\u001b[32m0\u001b[39m][\u001b[32m0\u001b[39m] * \u001b[32m2\u001b[39m\n\u001b[32m      4\u001b[39m     \u001b[38;5;28;01mreturn\u001b[39;00m user_stats.filter(col(\u001b[33m\"\u001b[39m\u001b[33mtotal_events\u001b[39m\u001b[33m\"\u001b[39m) > thresh)\n\u001b[32m----> \u001b[39m\u001b[32m6\u001b[39m \u001b[43mdetect_suspicious_users\u001b[49m\u001b[43m(\u001b[49m\u001b[43muser_stats\u001b[49m\u001b[43m)\u001b[49m.show()\n",
      "\u001b[36mCell\u001b[39m\u001b[36m \u001b[39m\u001b[32mIn[33]\u001b[39m\u001b[32m, line 3\u001b[39m, in \u001b[36mdetect_suspicious_users\u001b[39m\u001b[34m(user_stats)\u001b[39m\n\u001b[32m      2\u001b[39m \u001b[38;5;28;01mdef\u001b[39;00m\u001b[38;5;250m \u001b[39m\u001b[34mdetect_suspicious_users\u001b[39m(user_stats):\n\u001b[32m----> \u001b[39m\u001b[32m3\u001b[39m     thresh = \u001b[43muser_stats\u001b[49m\u001b[43m.\u001b[49m\u001b[43mselect\u001b[49m\u001b[43m(\u001b[49m\u001b[43mavg\u001b[49m\u001b[43m(\u001b[49m\u001b[33;43m\"\u001b[39;49m\u001b[33;43mtotal_events\u001b[39;49m\u001b[33;43m\"\u001b[39;49m\u001b[43m)\u001b[49m\u001b[43m)\u001b[49m.collect()[\u001b[32m0\u001b[39m][\u001b[32m0\u001b[39m] * \u001b[32m2\u001b[39m\n\u001b[32m      4\u001b[39m     \u001b[38;5;28;01mreturn\u001b[39;00m user_stats.filter(col(\u001b[33m\"\u001b[39m\u001b[33mtotal_events\u001b[39m\u001b[33m\"\u001b[39m) > thresh)\n",
      "\u001b[36mFile \u001b[39m\u001b[32m~\\AppData\\Local\\Programs\\Python\\Python313\\Lib\\site-packages\\pyspark\\sql\\dataframe.py:3229\u001b[39m, in \u001b[36mDataFrame.select\u001b[39m\u001b[34m(self, *cols)\u001b[39m\n\u001b[32m   3184\u001b[39m \u001b[38;5;28;01mdef\u001b[39;00m\u001b[38;5;250m \u001b[39m\u001b[34mselect\u001b[39m(\u001b[38;5;28mself\u001b[39m, *cols: \u001b[33m\"\u001b[39m\u001b[33mColumnOrName\u001b[39m\u001b[33m\"\u001b[39m) -> \u001b[33m\"\u001b[39m\u001b[33mDataFrame\u001b[39m\u001b[33m\"\u001b[39m:  \u001b[38;5;66;03m# type: ignore[misc]\u001b[39;00m\n\u001b[32m   3185\u001b[39m \u001b[38;5;250m    \u001b[39m\u001b[33;03m\"\"\"Projects a set of expressions and returns a new :class:`DataFrame`.\u001b[39;00m\n\u001b[32m   3186\u001b[39m \n\u001b[32m   3187\u001b[39m \u001b[33;03m    .. versionadded:: 1.3.0\u001b[39;00m\n\u001b[32m   (...)\u001b[39m\u001b[32m   3227\u001b[39m \u001b[33;03m    +-----+---+\u001b[39;00m\n\u001b[32m   3228\u001b[39m \u001b[33;03m    \"\"\"\u001b[39;00m\n\u001b[32m-> \u001b[39m\u001b[32m3229\u001b[39m     jdf = \u001b[38;5;28;43mself\u001b[39;49m\u001b[43m.\u001b[49m\u001b[43m_jdf\u001b[49m\u001b[43m.\u001b[49m\u001b[43mselect\u001b[49m\u001b[43m(\u001b[49m\u001b[38;5;28;43mself\u001b[39;49m\u001b[43m.\u001b[49m\u001b[43m_jcols\u001b[49m\u001b[43m(\u001b[49m\u001b[43m*\u001b[49m\u001b[43mcols\u001b[49m\u001b[43m)\u001b[49m\u001b[43m)\u001b[49m\n\u001b[32m   3230\u001b[39m     \u001b[38;5;28;01mreturn\u001b[39;00m DataFrame(jdf, \u001b[38;5;28mself\u001b[39m.sparkSession)\n",
      "\u001b[36mFile \u001b[39m\u001b[32m~\\AppData\\Local\\Programs\\Python\\Python313\\Lib\\site-packages\\py4j\\java_gateway.py:1322\u001b[39m, in \u001b[36mJavaMember.__call__\u001b[39m\u001b[34m(self, *args)\u001b[39m\n\u001b[32m   1316\u001b[39m command = proto.CALL_COMMAND_NAME +\\\n\u001b[32m   1317\u001b[39m     \u001b[38;5;28mself\u001b[39m.command_header +\\\n\u001b[32m   1318\u001b[39m     args_command +\\\n\u001b[32m   1319\u001b[39m     proto.END_COMMAND_PART\n\u001b[32m   1321\u001b[39m answer = \u001b[38;5;28mself\u001b[39m.gateway_client.send_command(command)\n\u001b[32m-> \u001b[39m\u001b[32m1322\u001b[39m return_value = \u001b[43mget_return_value\u001b[49m\u001b[43m(\u001b[49m\n\u001b[32m   1323\u001b[39m \u001b[43m    \u001b[49m\u001b[43manswer\u001b[49m\u001b[43m,\u001b[49m\u001b[43m \u001b[49m\u001b[38;5;28;43mself\u001b[39;49m\u001b[43m.\u001b[49m\u001b[43mgateway_client\u001b[49m\u001b[43m,\u001b[49m\u001b[43m \u001b[49m\u001b[38;5;28;43mself\u001b[39;49m\u001b[43m.\u001b[49m\u001b[43mtarget_id\u001b[49m\u001b[43m,\u001b[49m\u001b[43m \u001b[49m\u001b[38;5;28;43mself\u001b[39;49m\u001b[43m.\u001b[49m\u001b[43mname\u001b[49m\u001b[43m)\u001b[49m\n\u001b[32m   1325\u001b[39m \u001b[38;5;28;01mfor\u001b[39;00m temp_arg \u001b[38;5;129;01min\u001b[39;00m temp_args:\n\u001b[32m   1326\u001b[39m     \u001b[38;5;28;01mif\u001b[39;00m \u001b[38;5;28mhasattr\u001b[39m(temp_arg, \u001b[33m\"\u001b[39m\u001b[33m_detach\u001b[39m\u001b[33m\"\u001b[39m):\n",
      "\u001b[36mFile \u001b[39m\u001b[32m~\\AppData\\Local\\Programs\\Python\\Python313\\Lib\\site-packages\\pyspark\\errors\\exceptions\\captured.py:185\u001b[39m, in \u001b[36mcapture_sql_exception.<locals>.deco\u001b[39m\u001b[34m(*a, **kw)\u001b[39m\n\u001b[32m    181\u001b[39m converted = convert_exception(e.java_exception)\n\u001b[32m    182\u001b[39m \u001b[38;5;28;01mif\u001b[39;00m \u001b[38;5;129;01mnot\u001b[39;00m \u001b[38;5;28misinstance\u001b[39m(converted, UnknownException):\n\u001b[32m    183\u001b[39m     \u001b[38;5;66;03m# Hide where the exception came from that shows a non-Pythonic\u001b[39;00m\n\u001b[32m    184\u001b[39m     \u001b[38;5;66;03m# JVM exception message.\u001b[39;00m\n\u001b[32m--> \u001b[39m\u001b[32m185\u001b[39m     \u001b[38;5;28;01mraise\u001b[39;00m converted \u001b[38;5;28;01mfrom\u001b[39;00m\u001b[38;5;250m \u001b[39m\u001b[38;5;28;01mNone\u001b[39;00m\n\u001b[32m    186\u001b[39m \u001b[38;5;28;01melse\u001b[39;00m:\n\u001b[32m    187\u001b[39m     \u001b[38;5;28;01mraise\u001b[39;00m\n",
      "\u001b[31mAnalysisException\u001b[39m: [UNRESOLVED_COLUMN.WITH_SUGGESTION] A column or function parameter with name `total_events` cannot be resolved. Did you mean one of the following? [`max_events`, `avg_events`, `min_events`, `stddev_events`].;\n'Aggregate [unresolvedalias(avg('total_events), Some(org.apache.spark.sql.Column$$Lambda$2866/0x0000000101024428@708a37cc))]\n+- Aggregate [avg(total_events#540L) AS avg_events#544, stddev(cast(total_events#540L as double)) AS stddev_events#545, min(total_events#540L) AS min_events#547L, max(total_events#540L) AS max_events#549L]\n   +- Aggregate [user#363], [user#363, count(event_type#362) AS total_events#540L]\n      +- Relation [timestamp#361,event_type#362,user#363,ip#364,message#365] csv\n"
     ]
    }
   ],
   "source": [
    "\n",
    "# Identificar usuarios con actividad inusual\n",
    "def detect_suspicious_users(user_stats):\n",
    "    thresh = user_stats.select(avg(\"total_events\")).collect()[0][0] * 2\n",
    "    return user_stats.filter(col(\"total_events\") > thresh)\n",
    "\n",
    "detect_suspicious_users(user_stats).show()\n"
   ]
  },
  {
   "cell_type": "code",
   "execution_count": 34,
   "id": "3c71def6-60b9-4bec-bdd9-9157ce8949f2",
   "metadata": {},
   "outputs": [
    {
     "name": "stdout",
     "output_type": "stream",
     "text": [
      "Número estimado de usuarios únicos: 6\n"
     ]
    }
   ],
   "source": [
    "\n",
    "# Número estimado de usuarios únicos\n",
    "def count_unique_users(df):\n",
    "    return df.select(approx_count_distinct(\"user\")).collect()[0][0]\n",
    "\n",
    "print(f\"Número estimado de usuarios únicos: {count_unique_users(df)}\")\n"
   ]
  },
  {
   "cell_type": "code",
   "execution_count": 35,
   "id": "dd74dbf7-1bfa-460e-877f-06f6f686ce73",
   "metadata": {},
   "outputs": [
    {
     "name": "stdout",
     "output_type": "stream",
     "text": [
      "+---------------+------------+\n",
      "|             ip|total_events|\n",
      "+---------------+------------+\n",
      "|     172.16.0.2|          35|\n",
      "|   203.0.113.45|          33|\n",
      "|   192.168.1.15|          32|\n",
      "|185.199.108.153|          28|\n",
      "|       10.0.0.1|          26|\n",
      "|        8.8.8.8|          24|\n",
      "|   192.168.1.10|          22|\n",
      "+---------------+------------+\n",
      "\n"
     ]
    }
   ],
   "source": [
    "\n",
    "# Análisis de actividad por IP\n",
    "def analyze_ip_activity(df):\n",
    "    return df.groupBy(\"ip\").agg(count(\"event_type\").alias(\"total_events\")).orderBy(desc(\"total_events\"))\n",
    "\n",
    "analyze_ip_activity(df).show()\n"
   ]
  },
  {
   "cell_type": "code",
   "execution_count": 36,
   "id": "aa7bcc1e-49c6-41a0-87bb-d5f6d0c76e49",
   "metadata": {},
   "outputs": [
    {
     "name": "stdout",
     "output_type": "stream",
     "text": [
      "+-------------------+-------------+-----+---------------+--------------------+-------------+\n",
      "|          timestamp|   event_type| user|             ip|             message|recent_events|\n",
      "+-------------------+-------------+-----+---------------+--------------------+-------------+\n",
      "|2025-04-02 18:50:45|LOGIN_FAILURE|admin|     172.16.0.2|Intento de acceso...|            6|\n",
      "|2025-04-02 18:50:45|LOGIN_FAILURE|admin|       10.0.0.1|Intento de acceso...|            6|\n",
      "|2025-04-02 18:50:45|LOGIN_FAILURE|admin|       10.0.0.1|Intento de acceso...|            6|\n",
      "|2025-04-02 18:50:45|LOGIN_FAILURE|guest|   203.0.113.45|Intento de acceso...|            6|\n",
      "|2025-04-02 18:50:45|LOGIN_FAILURE|guest|     172.16.0.2|Intento de acceso...|            6|\n",
      "|2025-04-02 18:50:45|LOGIN_FAILURE| root|   203.0.113.45|Intento de acceso...|            6|\n",
      "|2025-04-02 18:50:45|LOGIN_FAILURE| root|   192.168.1.15|Intento de acceso...|            6|\n",
      "|2025-04-02 18:50:45|LOGIN_FAILURE|user1|       10.0.0.1|Intento de acceso...|            6|\n",
      "|2025-04-02 18:50:45|LOGIN_FAILURE|user1|   192.168.1.15|Intento de acceso...|            6|\n",
      "|2025-04-02 18:50:45|LOGIN_FAILURE|user2|   203.0.113.45|Intento de acceso...|            4|\n",
      "|2025-04-02 18:50:45|LOGIN_FAILURE|user2|185.199.108.153|Intento de acceso...|            6|\n",
      "|2025-04-02 18:50:45|LOGIN_FAILURE|user2|   192.168.1.15|Intento de acceso...|            6|\n",
      "|2025-04-02 18:50:45|LOGIN_FAILURE|user2|     172.16.0.2|Intento de acceso...|            6|\n",
      "|2025-04-02 18:50:45|LOGIN_FAILURE|user2|   192.168.1.10|Intento de acceso...|            6|\n",
      "+-------------------+-------------+-----+---------------+--------------------+-------------+\n",
      "\n"
     ]
    }
   ],
   "source": [
    "\n",
    "# Detección de ráfagas de intentos de acceso fallidos\n",
    "def detect_potential_attacks(df):\n",
    "    time_window = Window.partitionBy(\"user\").orderBy(\"timestamp\").rowsBetween(-5, 0)\n",
    "    df = df.withColumn(\"recent_events\", count(\"event_type\").over(time_window))\n",
    "    return df.filter((col(\"event_type\") == \"LOGIN_FAILURE\") & (col(\"recent_events\") > 3))\n",
    "\n",
    "detect_potential_attacks(df).show()"
   ]
  },
  {
   "cell_type": "code",
   "execution_count": null,
   "id": "9a0aa4f5-d13f-4413-9382-feada4b8240a",
   "metadata": {},
   "outputs": [],
   "source": []
  }
 ],
 "metadata": {
  "kernelspec": {
   "display_name": "Python 3 (ipykernel)",
   "language": "python",
   "name": "python3"
  },
  "language_info": {
   "codemirror_mode": {
    "name": "ipython",
    "version": 3
   },
   "file_extension": ".py",
   "mimetype": "text/x-python",
   "name": "python",
   "nbconvert_exporter": "python",
   "pygments_lexer": "ipython3",
   "version": "3.13.2"
  }
 },
 "nbformat": 4,
 "nbformat_minor": 5
}
