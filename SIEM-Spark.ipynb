{
 "cells": [
  {
   "cell_type": "code",
   "execution_count": 1,
   "id": "ee165260-5354-4ee8-9688-3a080052cc30",
   "metadata": {},
   "outputs": [
    {
     "name": "stdout",
     "output_type": "stream",
     "text": [
      "Requirement already satisfied: pyspark in c:\\users\\ignac\\appdata\\local\\programs\\python\\python313\\lib\\site-packages (3.5.4)\n",
      "Requirement already satisfied: kafka-python in c:\\users\\ignac\\appdata\\local\\programs\\python\\python313\\lib\\site-packages (2.1.2)\n",
      "Requirement already satisfied: pandas in c:\\users\\ignac\\appdata\\local\\programs\\python\\python313\\lib\\site-packages (2.2.3)\n",
      "Requirement already satisfied: matplotlib in c:\\users\\ignac\\appdata\\local\\programs\\python\\python313\\lib\\site-packages (3.10.1)\n",
      "Requirement already satisfied: py4j==0.10.9.7 in c:\\users\\ignac\\appdata\\local\\programs\\python\\python313\\lib\\site-packages (from pyspark) (0.10.9.7)\n",
      "Requirement already satisfied: numpy>=1.26.0 in c:\\users\\ignac\\appdata\\local\\programs\\python\\python313\\lib\\site-packages (from pandas) (2.2.4)\n",
      "Requirement already satisfied: python-dateutil>=2.8.2 in c:\\users\\ignac\\appdata\\local\\programs\\python\\python313\\lib\\site-packages (from pandas) (2.9.0.post0)\n",
      "Requirement already satisfied: pytz>=2020.1 in c:\\users\\ignac\\appdata\\local\\programs\\python\\python313\\lib\\site-packages (from pandas) (2025.2)\n",
      "Requirement already satisfied: tzdata>=2022.7 in c:\\users\\ignac\\appdata\\local\\programs\\python\\python313\\lib\\site-packages (from pandas) (2025.2)\n",
      "Requirement already satisfied: contourpy>=1.0.1 in c:\\users\\ignac\\appdata\\local\\programs\\python\\python313\\lib\\site-packages (from matplotlib) (1.3.1)\n",
      "Requirement already satisfied: cycler>=0.10 in c:\\users\\ignac\\appdata\\local\\programs\\python\\python313\\lib\\site-packages (from matplotlib) (0.12.1)\n",
      "Requirement already satisfied: fonttools>=4.22.0 in c:\\users\\ignac\\appdata\\local\\programs\\python\\python313\\lib\\site-packages (from matplotlib) (4.56.0)\n",
      "Requirement already satisfied: kiwisolver>=1.3.1 in c:\\users\\ignac\\appdata\\local\\programs\\python\\python313\\lib\\site-packages (from matplotlib) (1.4.8)\n",
      "Requirement already satisfied: packaging>=20.0 in c:\\users\\ignac\\appdata\\local\\programs\\python\\python313\\lib\\site-packages (from matplotlib) (24.2)\n",
      "Requirement already satisfied: pillow>=8 in c:\\users\\ignac\\appdata\\local\\programs\\python\\python313\\lib\\site-packages (from matplotlib) (11.1.0)\n",
      "Requirement already satisfied: pyparsing>=2.3.1 in c:\\users\\ignac\\appdata\\local\\programs\\python\\python313\\lib\\site-packages (from matplotlib) (3.2.3)\n",
      "Requirement already satisfied: six>=1.5 in c:\\users\\ignac\\appdata\\local\\programs\\python\\python313\\lib\\site-packages (from python-dateutil>=2.8.2->pandas) (1.17.0)\n"
     ]
    }
   ],
   "source": [
    "# Primero, en la primera celda del notebook puedes instalar las bibliotecas necesarias (si aún no están instaladas):\n",
    "\n",
    "!pip install pyspark kafka-python pandas matplotlib"
   ]
  },
  {
   "cell_type": "code",
   "execution_count": 1,
   "id": "4ff0a86e-d35b-40df-ac45-1e28baa897fb",
   "metadata": {},
   "outputs": [],
   "source": [
    "import os\n",
    "import csv\n",
    "import random\n",
    "import datetime\n",
    "\n",
    "# Lista de posibles tipos de eventos con una distribución realista\n",
    "event_types = [\n",
    "    ('INFO', 0.6),  # 60% de logs informativos\n",
    "    ('WARNING', 0.15),  # 15% de advertencias\n",
    "    ('ERROR', 0.1),  # 10% de errores\n",
    "    ('DEBUG', 0.1),  # 10% de depuración\n",
    "    ('LOGIN_FAILURE', 0.05)  # 5% de intentos de acceso fallidos\n",
    "]\n",
    "\n",
    "# Lista de posibles usuarios y direcciones IPs\n",
    "users = ['admin', 'user1', 'user2', 'guest', 'root', 'test']\n",
    "ips = [\n",
    "    '192.168.1.10', '192.168.1.15', '10.0.0.1', '172.16.0.2',\n",
    "    '203.0.113.45', '8.8.8.8', '185.199.108.153'\n",
    "]\n",
    "\n",
    "# Función para elegir un tipo de evento basado en la distribución de probabilidad\n",
    "def choose_event_type():\n",
    "    return random.choices([e[0] for e in event_types], weights=[e[1] for e in event_types])[0]\n",
    "\n",
    "# Función para generar un log aleatorio\n",
    "def generate_log():\n",
    "    timestamp = datetime.datetime.now().strftime('%Y-%m-%d %H:%M:%S')\n",
    "    event_type = choose_event_type()\n",
    "    user = random.choice(users)\n",
    "    ip = random.choice(ips)\n",
    "    \n",
    "    if event_type == 'LOGIN_FAILURE':\n",
    "        message = f\"Intento de acceso fallido para usuario {user} desde {ip}\"\n",
    "    elif event_type == 'ERROR':\n",
    "        message = f\"Error crítico en el sistema detectado por el usuario {user}\"\n",
    "    elif event_type == 'WARNING':\n",
    "        message = f\"Posible anomalía detectada desde la IP {ip}\"\n",
    "    elif event_type == 'DEBUG':\n",
    "        message = f\"Modo depuración activo por usuario {user}\"\n",
    "    else:  # INFO\n",
    "        message = f\"Evento normal registrado para usuario {user} desde {ip}\"\n",
    "    \n",
    "    return [timestamp, event_type, user, ip, message]\n",
    "\n",
    "# Función para generar múltiples logs y guardarlos en un archivo CSV\n",
    "def generate_logs(file_path=\"logs/log.csv\", num_logs=200):\n",
    "    folder = os.path.dirname(file_path)\n",
    "    if not os.path.exists(folder):\n",
    "        os.makedirs(folder)\n",
    "    \n",
    "    with open(file_path, mode='w', newline='') as file:\n",
    "        writer = csv.writer(file)\n",
    "        writer.writerow(['timestamp', 'event_type', 'user', 'ip', 'message'])\n",
    "        \n",
    "        for _ in range(num_logs):\n",
    "            writer.writerow(generate_log())\n",
    "\n",
    "# Ejecutar la generación de logs\n",
    "generate_logs(\"logs/log.csv\")\n"
   ]
  },
  {
   "cell_type": "code",
   "execution_count": 2,
   "id": "9b5bda23-2e9d-45ba-b2a8-695417346c29",
   "metadata": {},
   "outputs": [
    {
     "name": "stdout",
     "output_type": "stream",
     "text": [
      "3.5.4\n"
     ]
    }
   ],
   "source": [
    "# La siguiente celda es para configurar la sesión de Spark y verificar que todo esté listo:\n",
    "\n",
    "from pyspark.sql import SparkSession\n",
    "\n",
    "# Crea una sesión de Spark\n",
    "spark = SparkSession.builder \\\n",
    "    .appName(\"SIEM with Spark in Jupyter\") \\\n",
    "    .getOrCreate()\n",
    "\n",
    "# Verifica que Spark está funcionando correctamente\n",
    "print(spark.version)\n"
   ]
  },
  {
   "cell_type": "code",
   "execution_count": 3,
   "id": "16302b43-351e-4c27-b12b-edb1997e85ae",
   "metadata": {},
   "outputs": [
    {
     "name": "stdout",
     "output_type": "stream",
     "text": [
      "+-------------------+----------+-----+---------------+--------------------+\n",
      "|          timestamp|event_type| user|             ip|             message|\n",
      "+-------------------+----------+-----+---------------+--------------------+\n",
      "|2025-03-31 19:43:41|     ERROR|admin|     172.16.0.2|Error cr�tico en ...|\n",
      "|2025-03-31 19:43:41|      INFO| root|185.199.108.153|Evento normal reg...|\n",
      "|2025-03-31 19:43:41|     DEBUG| root|   203.0.113.45|Modo depuraci�n a...|\n",
      "|2025-03-31 19:43:41|   WARNING|admin|     172.16.0.2|Posible anomal�a ...|\n",
      "|2025-03-31 19:43:41|      INFO|user2|   203.0.113.45|Evento normal reg...|\n",
      "+-------------------+----------+-----+---------------+--------------------+\n",
      "only showing top 5 rows\n",
      "\n"
     ]
    }
   ],
   "source": [
    "def read_logs_from_csv(file_path=\"logs/log.csv\"):\n",
    "    # Leemos los logs desde el archivo CSV\n",
    "    df = spark.read.option(\"header\", \"true\").csv(file_path)\n",
    "    \n",
    "    # Mostramos los primeros 5 logs como ejemplo\n",
    "    df.show(5)\n",
    "\n",
    "    return df\n",
    "\n",
    "# Llamamos a la función para leer los logs\n",
    "logs_df = read_logs_from_csv(\"logs/log.csv\")\n"
   ]
  },
  {
   "cell_type": "code",
   "execution_count": 4,
   "id": "4e76051d-3f17-4b51-8fcc-ced1696d2f95",
   "metadata": {
    "scrolled": true
   },
   "outputs": [
    {
     "name": "stdout",
     "output_type": "stream",
     "text": [
      "+-------------------+-------------+-----+---------------+--------------------+\n",
      "|          timestamp|   event_type| user|             ip|             message|\n",
      "+-------------------+-------------+-----+---------------+--------------------+\n",
      "|2025-03-31 19:43:41|LOGIN_FAILURE| test|   192.168.1.10|Intento de acceso...|\n",
      "|2025-03-31 19:43:41|LOGIN_FAILURE| test|        8.8.8.8|Intento de acceso...|\n",
      "|2025-03-31 19:43:41|LOGIN_FAILURE|admin|185.199.108.153|Intento de acceso...|\n",
      "|2025-03-31 19:43:41|LOGIN_FAILURE| test|   192.168.1.10|Intento de acceso...|\n",
      "|2025-03-31 19:43:41|LOGIN_FAILURE| root|     172.16.0.2|Intento de acceso...|\n",
      "|2025-03-31 19:43:41|LOGIN_FAILURE|user1|     172.16.0.2|Intento de acceso...|\n",
      "|2025-03-31 19:43:41|LOGIN_FAILURE|admin|185.199.108.153|Intento de acceso...|\n",
      "|2025-03-31 19:43:41|LOGIN_FAILURE|guest|   192.168.1.10|Intento de acceso...|\n",
      "|2025-03-31 19:43:41|LOGIN_FAILURE|user2|   192.168.1.10|Intento de acceso...|\n",
      "+-------------------+-------------+-----+---------------+--------------------+\n",
      "\n"
     ]
    }
   ],
   "source": [
    "from pyspark.sql.functions import col, regexp_extract\n",
    "\n",
    "# Filtra solo eventos de login fallido\n",
    "login_failures = logs_df.filter(logs_df.event_type == \"LOGIN_FAILURE\")\n",
    "\n",
    "# Muestra los eventos filtrados\n",
    "login_failures.show()\n"
   ]
  },
  {
   "cell_type": "code",
   "execution_count": 5,
   "id": "ed6ad29a-024d-4676-b9c8-14779619af02",
   "metadata": {},
   "outputs": [
    {
     "name": "stdout",
     "output_type": "stream",
     "text": [
      "+--------------------+-----+\n",
      "|              window|count|\n",
      "+--------------------+-----+\n",
      "|{2025-03-31 19:40...|    9|\n",
      "+--------------------+-----+\n",
      "\n"
     ]
    }
   ],
   "source": [
    "# En esta celda puedes generar alertas basadas en el análisis de logs. Por ejemplo, si hay un número excesivo de intentos de login fallido en un período de tiempo:\n",
    "\n",
    "# Alerta si hay un número excesivo de intentos de login fallidos\n",
    "from pyspark.sql.functions import window\n",
    "\n",
    "alert_df = login_failures.groupBy(window(\"timestamp\", \"5 minutes\")).count()\n",
    "\n",
    "alert_df.show()\n"
   ]
  },
  {
   "cell_type": "code",
   "execution_count": 7,
   "id": "9a0aa4f5-d13f-4413-9382-feada4b8240a",
   "metadata": {},
   "outputs": [
    {
     "data": {
      "image/png": "[encoded data removed]",
      "text/plain": [
       "<Figure size 640x480 with 1 Axes>"
      ]
     },
     "metadata": {},
     "output_type": "display_data"
    }
   ],
   "source": [
    "# Aquí puedes visualizar los resultados utilizando bibliotecas como Matplotlib o Seaborn:\n",
    "\n",
    "import matplotlib.pyplot as plt\n",
    "\n",
    "# Supón que tienes un DataFrame de Pandas con resultados\n",
    "alert_data = alert_df.toPandas()\n",
    "alert_data.plot(kind='bar', x='window', y='count')\n",
    "plt.show()\n"
   ]
  },
  {
   "cell_type": "code",
   "execution_count": 24,
   "id": "fb84d9ad-db97-4c19-8c18-cfd26847fb03",
   "metadata": {},
   "outputs": [],
   "source": [
    "# Finalmente, puedes guardar los resultados procesados en un archivo de texto, CSV, o cualquier formato que necesites:\n",
    "\n",
    "alert_data.to_csv(\"results/results.txt\", index=False, header=False)\n"
   ]
  },
  {
   "cell_type": "code",
   "execution_count": null,
   "id": "cca9ca16-425f-4f1c-98d9-34b1e750270d",
   "metadata": {},
   "outputs": [],
   "source": []
  }
 ],
 "metadata": {
  "kernelspec": {
   "display_name": "Python 3 (ipykernel)",
   "language": "python",
   "name": "python3"
  },
  "language_info": {
   "codemirror_mode": {
    "name": "ipython",
    "version": 3
   },
   "file_extension": ".py",
   "mimetype": "text/x-python",
   "name": "python",
   "nbconvert_exporter": "python",
   "pygments_lexer": "ipython3",
   "version": "3.13.2"
  }
 },
 "nbformat": 4,
 "nbformat_minor": 5
}
