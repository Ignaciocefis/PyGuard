{
 "cells": [
  {
   "cell_type": "code",
   "execution_count": 30,
   "id": "ee165260-5354-4ee8-9688-3a080052cc30",
   "metadata": {},
   "outputs": [],
   "source": [
    "#Bibliotecas necesarias :\n",
    "\n",
    "#!pip install pyspark kafka-python pandas matplotlib\n",
    "\n",
    "from pyspark.sql import SparkSession\n",
    "from pyspark.sql.functions import col, count, window, desc, lag, avg, stddev, min, max, sum, approx_count_distinct\n",
    "from pyspark.sql.window import Window\n",
    "from kafka import KafkaProducer\n",
    "from kafka import KafkaConsumer\n",
    "\n",
    "import os\n",
    "import csv\n",
    "import random\n",
    "import datetime\n",
    "import json\n",
    "import time"
   ]
  },
  {
   "cell_type": "code",
   "execution_count": 40,
   "id": "4ff0a86e-d35b-40df-ac45-1e28baa897fb",
   "metadata": {},
   "outputs": [
    {
     "name": "stdout",
     "output_type": "stream",
     "text": [
      "Enviando logs a Kafka topic 'logs'...\n",
      "Interrumpido por el usuario\n"
     ]
    }
   ],
   "source": [
    "\n",
    "# Configura tu Kafka\n",
    "KAFKA_TOPIC = 'logs'\n",
    "KAFKA_BROKER = 'localhost:9093'  # Cambia esto si usas Docker o red externa\n",
    "\n",
    "# Inicializar el productor\n",
    "producer = KafkaProducer(\n",
    "    bootstrap_servers=KAFKA_BROKER,\n",
    "    value_serializer=lambda v: json.dumps(v).encode('utf-8')\n",
    ")\n",
    "\n",
    "# Tipos de eventos\n",
    "event_types = [\n",
    "    ('INFO', 0.6),\n",
    "    ('WARNING', 0.15),\n",
    "    ('ERROR', 0.1),\n",
    "    ('DEBUG', 0.1),\n",
    "    ('LOGIN_FAILURE', 0.05)\n",
    "]\n",
    "\n",
    "users = ['admin', 'user1', 'user2', 'guest', 'root', 'test']\n",
    "ips = [\n",
    "    '192.168.1.10', '192.168.1.15', '10.0.0.1', '172.16.0.2',\n",
    "    '203.0.113.45', '8.8.8.8', '185.199.108.153'\n",
    "]\n",
    "\n",
    "def choose_event_type():\n",
    "    return random.choices([e[0] for e in event_types], weights=[e[1] for e in event_types])[0]\n",
    "\n",
    "def generate_log():\n",
    "    timestamp = datetime.datetime.now().strftime('%Y-%m-%d %H:%M:%S')\n",
    "    event_type = choose_event_type()\n",
    "    user = random.choice(users)\n",
    "    ip = random.choice(ips)\n",
    "\n",
    "    if event_type == 'LOGIN_FAILURE':\n",
    "        message = f\"Intento de acceso fallido para usuario {user} desde {ip}\"\n",
    "    elif event_type == 'ERROR':\n",
    "        message = f\"Error critico en el sistema detectado por el usuario {user}\"\n",
    "    elif event_type == 'WARNING':\n",
    "        message = f\"Posible anomalia detectada desde la IP {ip}\"\n",
    "    elif event_type == 'DEBUG':\n",
    "        message = f\"Modo depuración activo por usuario {user}\"\n",
    "    else:\n",
    "        message = f\"Evento normal registrado para usuario {user} desde {ip}\"\n",
    "\n",
    "    return {\n",
    "        'timestamp': timestamp,\n",
    "        'event_type': event_type,\n",
    "        'user': user,\n",
    "        'ip': ip,\n",
    "        'message': message\n",
    "    }\n",
    "\n",
    "# Bucle infinito para enviar logs\n",
    "try:\n",
    "    print(f\"Enviando logs a Kafka topic '{KAFKA_TOPIC}'...\")\n",
    "    while True:\n",
    "        log = generate_log()\n",
    "        producer.send(KAFKA_TOPIC, value=log)\n",
    "        #print(\"Enviado:\", log)\n",
    "        time.sleep(1)  # Esperar 1 segundo entre logs (ajustable)\n",
    "except KeyboardInterrupt:\n",
    "    print(\"Interrumpido por el usuario\")\n",
    "finally:\n",
    "    producer.close()\n"
   ]
  },
  {
   "cell_type": "code",
   "execution_count": 37,
   "id": "9b5bda23-2e9d-45ba-b2a8-695417346c29",
   "metadata": {},
   "outputs": [
    {
     "name": "stdout",
     "output_type": "stream",
     "text": [
      "3.5.5\n"
     ]
    }
   ],
   "source": [
    "# La siguiente celda es para configurar la sesión de Spark y verificar que todo esté listo:\n",
    "\n",
    "from pyspark.sql import SparkSession\n",
    "\n",
    "# Crea una sesión de Spark\n",
    "spark = SparkSession.builder \\\n",
    "    .appName(\"SIEM with Spark in Jupyter\") \\\n",
    "    .getOrCreate()\n",
    "\n",
    "# Verifica que Spark está funcionando correctamente\n",
    "print(spark.version)\n"
   ]
  },
  {
   "cell_type": "code",
   "execution_count": 41,
   "id": "16302b43-351e-4c27-b12b-edb1997e85ae",
   "metadata": {},
   "outputs": [
    {
     "name": "stdout",
     "output_type": "stream",
     "text": [
      "+-------------------+-------------+-----+------------+--------------------+\n",
      "|          timestamp|   event_type| user|          ip|             message|\n",
      "+-------------------+-------------+-----+------------+--------------------+\n",
      "|2025-04-06 17:08:39|      WARNING| root|     8.8.8.8|Posible anomalia ...|\n",
      "|2025-04-06 17:08:40|        ERROR|guest|     8.8.8.8|Error critico en ...|\n",
      "|2025-04-06 17:08:41|      WARNING|user2|     8.8.8.8|Posible anomalia ...|\n",
      "|2025-04-06 17:08:42|         INFO|user1|  172.16.0.2|Evento normal reg...|\n",
      "|2025-04-06 17:08:43|LOGIN_FAILURE|admin|192.168.1.10|Intento de acceso...|\n",
      "+-------------------+-------------+-----+------------+--------------------+\n",
      "only showing top 5 rows\n",
      "\n"
     ]
    }
   ],
   "source": [
    "\n",
    "def read_logs_from_csv(file_path=\"logs/kafka_logs.csv\"):\n",
    "    df = spark.read.option(\"header\", \"true\").csv(file_path)\n",
    "    df.show(5)\n",
    "    return df\n",
    "\n",
    "df = read_logs_from_csv(\"logs/kafka_logs.csv\")\n"
   ]
  },
  {
   "cell_type": "code",
   "execution_count": 42,
   "id": "7275e958-9f85-4173-aa8e-e1a4c0b84d3e",
   "metadata": {},
   "outputs": [
    {
     "name": "stdout",
     "output_type": "stream",
     "text": [
      "+-------------+-----+\n",
      "|   event_type|count|\n",
      "+-------------+-----+\n",
      "|         INFO|   10|\n",
      "|      WARNING|    2|\n",
      "|        ERROR|    1|\n",
      "|LOGIN_FAILURE|    1|\n",
      "+-------------+-----+\n",
      "\n"
     ]
    }
   ],
   "source": [
    "\n",
    "# Conteo de eventos por tipo\n",
    "def count_events(df):\n",
    "    return df.groupBy(\"event_type\").count().orderBy(desc(\"count\"))\n",
    "\n",
    "count_events(df).show()\n"
   ]
  },
  {
   "cell_type": "code",
   "execution_count": 43,
   "id": "cd103aa2-9ae6-49ad-8159-a477e8ed8d9c",
   "metadata": {},
   "outputs": [
    {
     "name": "stdout",
     "output_type": "stream",
     "text": [
      "+-----+-----+\n",
      "| user|count|\n",
      "+-----+-----+\n",
      "|guest|    4|\n",
      "|admin|    3|\n",
      "| root|    2|\n",
      "|user2|    2|\n",
      "| test|    2|\n",
      "|user1|    1|\n",
      "+-----+-----+\n",
      "\n"
     ]
    }
   ],
   "source": [
    "\n",
    "# Conteo de eventos por usuario\n",
    "def count_users(df):\n",
    "    return df.groupBy(\"user\").count().orderBy(desc(\"count\"))\n",
    "\n",
    "count_users(df).show()\n"
   ]
  },
  {
   "cell_type": "code",
   "execution_count": 44,
   "id": "dd5fc5e2-5d71-486b-828a-e4c650dfc85a",
   "metadata": {},
   "outputs": [
    {
     "name": "stdout",
     "output_type": "stream",
     "text": [
      "+-----+-----+\n",
      "| user|count|\n",
      "+-----+-----+\n",
      "|admin|    1|\n",
      "|guest|    1|\n",
      "+-----+-----+\n",
      "\n"
     ]
    }
   ],
   "source": [
    "\n",
    "# Detectar usuarios con alta cantidad de errores o fallos de login\n",
    "def detect_anomalous_users(df):\n",
    "    return df.filter((col(\"event_type\") == \"ERROR\") | (col(\"event_type\") == \"LOGIN_FAILURE\")) \\\n",
    "             .groupBy(\"user\").count().orderBy(desc(\"count\"))\n",
    "\n",
    "detect_anomalous_users(df).show()\n"
   ]
  },
  {
   "cell_type": "code",
   "execution_count": 45,
   "id": "8c1dc9a6-8ba9-4822-8c13-bd1a3730e6a1",
   "metadata": {},
   "outputs": [
    {
     "name": "stdout",
     "output_type": "stream",
     "text": [
      "+--------------------+-------------+-----+\n",
      "|              window|   event_type|count|\n",
      "+--------------------+-------------+-----+\n",
      "|{2025-04-06 17:00...|      WARNING|    2|\n",
      "|{2025-04-06 17:00...|        ERROR|    1|\n",
      "|{2025-04-06 17:00...|         INFO|   10|\n",
      "|{2025-04-06 17:00...|LOGIN_FAILURE|    1|\n",
      "+--------------------+-------------+-----+\n",
      "\n"
     ]
    }
   ],
   "source": [
    "\n",
    "# Análisis de eventos en el tiempo\n",
    "def analyze_time_distribution(df):\n",
    "    df = df.withColumn(\"timestamp\", col(\"timestamp\").cast(\"timestamp\"))\n",
    "    return df.groupBy(window(col(\"timestamp\"), \"1 hour\"), \"event_type\").count()\n",
    "\n",
    "analyze_time_distribution(df).show()\n"
   ]
  },
  {
   "cell_type": "code",
   "execution_count": 46,
   "id": "969457fd-b738-490d-b5d0-d4a6b798b62a",
   "metadata": {},
   "outputs": [
    {
     "name": "stdout",
     "output_type": "stream",
     "text": [
      "+-------------------+-------------+-----+---------------+--------------------+-------------+\n",
      "|          timestamp|   event_type| user|             ip|             message|   prev_event|\n",
      "+-------------------+-------------+-----+---------------+--------------------+-------------+\n",
      "|2025-04-06 17:08:43|LOGIN_FAILURE|admin|   192.168.1.10|Intento de acceso...|         NULL|\n",
      "|2025-04-06 17:08:48|         INFO|admin|        8.8.8.8|Evento normal reg...|LOGIN_FAILURE|\n",
      "|2025-04-06 17:08:50|         INFO|admin|185.199.108.153|Evento normal reg...|         INFO|\n",
      "|2025-04-06 17:08:40|        ERROR|guest|        8.8.8.8|Error critico en ...|         NULL|\n",
      "|2025-04-06 17:08:44|         INFO|guest|       10.0.0.1|Evento normal reg...|        ERROR|\n",
      "|2025-04-06 17:08:45|         INFO|guest|     172.16.0.2|Evento normal reg...|         INFO|\n",
      "|2025-04-06 17:08:51|         INFO|guest|     172.16.0.2|Evento normal reg...|         INFO|\n",
      "|2025-04-06 17:08:39|      WARNING| root|        8.8.8.8|Posible anomalia ...|         NULL|\n",
      "|2025-04-06 17:08:47|         INFO| root|     172.16.0.2|Evento normal reg...|      WARNING|\n",
      "|2025-04-06 17:08:49|         INFO| test|   203.0.113.45|Evento normal reg...|         NULL|\n",
      "|2025-04-06 17:08:52|         INFO| test|        8.8.8.8|Evento normal reg...|         INFO|\n",
      "|2025-04-06 17:08:42|         INFO|user1|     172.16.0.2|Evento normal reg...|         NULL|\n",
      "|2025-04-06 17:08:41|      WARNING|user2|        8.8.8.8|Posible anomalia ...|         NULL|\n",
      "|2025-04-06 17:08:46|         INFO|user2|   192.168.1.15|Evento normal reg...|      WARNING|\n",
      "+-------------------+-------------+-----+---------------+--------------------+-------------+\n",
      "\n"
     ]
    }
   ],
   "source": [
    "\n",
    "# Detección de patrones de actividad sospechosa\n",
    "def detect_suspicious_patterns(df):\n",
    "    window_spec = Window.partitionBy(\"user\").orderBy(\"timestamp\")\n",
    "    return df.withColumn(\"prev_event\", lag(\"event_type\").over(window_spec))\n",
    "\n",
    "detect_suspicious_patterns(df).show()\n"
   ]
  },
  {
   "cell_type": "code",
   "execution_count": 47,
   "id": "d0fe997d-2402-4e8f-a151-e8d186092f02",
   "metadata": {},
   "outputs": [
    {
     "name": "stdout",
     "output_type": "stream",
     "text": [
      "+------------------+------------------+----------+----------+\n",
      "|        avg_events|     stddev_events|min_events|max_events|\n",
      "+------------------+------------------+----------+----------+\n",
      "|2.3333333333333335|1.0327955589886444|         1|         4|\n",
      "+------------------+------------------+----------+----------+\n",
      "\n"
     ]
    }
   ],
   "source": [
    "\n",
    "# Estadísticas por usuario\n",
    "def user_statistics(df):\n",
    "    user_events = df.groupBy(\"user\").agg(count(\"event_type\").alias(\"total_events\"))\n",
    "    return user_events.agg(\n",
    "        avg(\"total_events\").alias(\"avg_events\"),\n",
    "        stddev(\"total_events\").alias(\"stddev_events\"),\n",
    "        min(\"total_events\").alias(\"min_events\"),\n",
    "        max(\"total_events\").alias(\"max_events\")\n",
    "    )\n",
    "\n",
    "user_stats = user_statistics(df)\n",
    "user_stats.show()\n"
   ]
  },
  {
   "cell_type": "code",
   "execution_count": 48,
   "id": "cfb6ea16-7072-4130-9ac9-a058fb743ddb",
   "metadata": {},
   "outputs": [
    {
     "name": "stdout",
     "output_type": "stream",
     "text": [
      "+-----------------+----------+----+----------+\n",
      "|failed_login_time|error_time|user|event_type|\n",
      "+-----------------+----------+----+----------+\n",
      "+-----------------+----------+----+----------+\n",
      "\n"
     ]
    }
   ],
   "source": [
    "\n",
    "# Correlación entre intentos de login fallidos y errores\n",
    "def correlate_failed_logins_errors(df):\n",
    "    failed_logins = df.filter(col(\"event_type\") == \"LOGIN_FAILURE\").alias(\"fl\")\n",
    "    df_alias = df.alias(\"df\")\n",
    "    \n",
    "    return failed_logins.join(\n",
    "        df_alias, \n",
    "        (col(\"fl.user\") == col(\"df.user\")) & (col(\"fl.timestamp\") < col(\"df.timestamp\")),\n",
    "        \"inner\"\n",
    "    ).filter(col(\"df.event_type\") == \"ERROR\").select(\n",
    "        col(\"fl.timestamp\").alias(\"failed_login_time\"),\n",
    "        col(\"df.timestamp\").alias(\"error_time\"),\n",
    "        col(\"fl.user\"),\n",
    "        col(\"df.event_type\")\n",
    "    )\n",
    "\n",
    "correlate_failed_logins_errors(df).show()\n"
   ]
  },
  {
   "cell_type": "code",
   "execution_count": 49,
   "id": "2efd785e-1f45-47c7-8340-d256fb7f85f0",
   "metadata": {},
   "outputs": [
    {
     "name": "stdout",
     "output_type": "stream",
     "text": [
      "+------------+-----+\n",
      "|          ip|count|\n",
      "+------------+-----+\n",
      "|192.168.1.10|    1|\n",
      "+------------+-----+\n",
      "\n"
     ]
    }
   ],
   "source": [
    "\n",
    "# Detectar direcciones IP con múltiples intentos fallidos\n",
    "def detect_dangerous_ips(df):\n",
    "    return df.filter(col(\"event_type\") == \"LOGIN_FAILURE\").groupBy(\"ip\").count().orderBy(desc(\"count\"))\n",
    "\n",
    "detect_dangerous_ips(df).show()\n"
   ]
  },
  {
   "cell_type": "code",
   "execution_count": 13,
   "id": "52d4b4fc-75b0-4086-9cef-c571020c2aa5",
   "metadata": {},
   "outputs": [
    {
     "ename": "AnalysisException",
     "evalue": "[UNRESOLVED_COLUMN.WITH_SUGGESTION] A column or function parameter with name `total_events` cannot be resolved. Did you mean one of the following? [`max_events`, `avg_events`, `min_events`, `stddev_events`].;\n'Aggregate [unresolvedalias(avg('total_events), Some(org.apache.spark.sql.Column$$Lambda/0x000001e8cae486b8@1c9083c0))]\n+- Aggregate [avg(total_events#196L) AS avg_events#200, stddev(cast(total_events#196L as double)) AS stddev_events#201, min(total_events#196L) AS min_events#203L, max(total_events#196L) AS max_events#205L]\n   +- Aggregate [user#19], [user#19, count(event_type#18) AS total_events#196L]\n      +- Relation [timestamp#17,event_type#18,user#19,ip#20,message#21] csv\n",
     "output_type": "error",
     "traceback": [
      "\u001b[1;31m---------------------------------------------------------------------------\u001b[0m",
      "\u001b[1;31mAnalysisException\u001b[0m                         Traceback (most recent call last)",
      "Cell \u001b[1;32mIn[13], line 6\u001b[0m\n\u001b[0;32m      3\u001b[0m     thresh \u001b[38;5;241m=\u001b[39m user_stats\u001b[38;5;241m.\u001b[39mselect(avg(\u001b[38;5;124m\"\u001b[39m\u001b[38;5;124mtotal_events\u001b[39m\u001b[38;5;124m\"\u001b[39m))\u001b[38;5;241m.\u001b[39mcollect()[\u001b[38;5;241m0\u001b[39m][\u001b[38;5;241m0\u001b[39m] \u001b[38;5;241m*\u001b[39m \u001b[38;5;241m2\u001b[39m\n\u001b[0;32m      4\u001b[0m     \u001b[38;5;28;01mreturn\u001b[39;00m user_stats\u001b[38;5;241m.\u001b[39mfilter(col(\u001b[38;5;124m\"\u001b[39m\u001b[38;5;124mtotal_events\u001b[39m\u001b[38;5;124m\"\u001b[39m) \u001b[38;5;241m>\u001b[39m thresh)\n\u001b[1;32m----> 6\u001b[0m \u001b[43mdetect_suspicious_users\u001b[49m\u001b[43m(\u001b[49m\u001b[43muser_stats\u001b[49m\u001b[43m)\u001b[49m\u001b[38;5;241m.\u001b[39mshow()\n",
      "Cell \u001b[1;32mIn[13], line 3\u001b[0m, in \u001b[0;36mdetect_suspicious_users\u001b[1;34m(user_stats)\u001b[0m\n\u001b[0;32m      2\u001b[0m \u001b[38;5;28;01mdef\u001b[39;00m\u001b[38;5;250m \u001b[39m\u001b[38;5;21mdetect_suspicious_users\u001b[39m(user_stats):\n\u001b[1;32m----> 3\u001b[0m     thresh \u001b[38;5;241m=\u001b[39m \u001b[43muser_stats\u001b[49m\u001b[38;5;241;43m.\u001b[39;49m\u001b[43mselect\u001b[49m\u001b[43m(\u001b[49m\u001b[43mavg\u001b[49m\u001b[43m(\u001b[49m\u001b[38;5;124;43m\"\u001b[39;49m\u001b[38;5;124;43mtotal_events\u001b[39;49m\u001b[38;5;124;43m\"\u001b[39;49m\u001b[43m)\u001b[49m\u001b[43m)\u001b[49m\u001b[38;5;241m.\u001b[39mcollect()[\u001b[38;5;241m0\u001b[39m][\u001b[38;5;241m0\u001b[39m] \u001b[38;5;241m*\u001b[39m \u001b[38;5;241m2\u001b[39m\n\u001b[0;32m      4\u001b[0m     \u001b[38;5;28;01mreturn\u001b[39;00m user_stats\u001b[38;5;241m.\u001b[39mfilter(col(\u001b[38;5;124m\"\u001b[39m\u001b[38;5;124mtotal_events\u001b[39m\u001b[38;5;124m\"\u001b[39m) \u001b[38;5;241m>\u001b[39m thresh)\n",
      "File \u001b[1;32mc:\\Users\\Usuario\\AppData\\Local\\Programs\\Python\\Python310\\lib\\site-packages\\pyspark\\sql\\dataframe.py:3229\u001b[0m, in \u001b[0;36mDataFrame.select\u001b[1;34m(self, *cols)\u001b[0m\n\u001b[0;32m   3184\u001b[0m \u001b[38;5;28;01mdef\u001b[39;00m\u001b[38;5;250m \u001b[39m\u001b[38;5;21mselect\u001b[39m(\u001b[38;5;28mself\u001b[39m, \u001b[38;5;241m*\u001b[39mcols: \u001b[38;5;124m\"\u001b[39m\u001b[38;5;124mColumnOrName\u001b[39m\u001b[38;5;124m\"\u001b[39m) \u001b[38;5;241m-\u001b[39m\u001b[38;5;241m>\u001b[39m \u001b[38;5;124m\"\u001b[39m\u001b[38;5;124mDataFrame\u001b[39m\u001b[38;5;124m\"\u001b[39m:  \u001b[38;5;66;03m# type: ignore[misc]\u001b[39;00m\n\u001b[0;32m   3185\u001b[0m \u001b[38;5;250m    \u001b[39m\u001b[38;5;124;03m\"\"\"Projects a set of expressions and returns a new :class:`DataFrame`.\u001b[39;00m\n\u001b[0;32m   3186\u001b[0m \n\u001b[0;32m   3187\u001b[0m \u001b[38;5;124;03m    .. versionadded:: 1.3.0\u001b[39;00m\n\u001b[1;32m   (...)\u001b[0m\n\u001b[0;32m   3227\u001b[0m \u001b[38;5;124;03m    +-----+---+\u001b[39;00m\n\u001b[0;32m   3228\u001b[0m \u001b[38;5;124;03m    \"\"\"\u001b[39;00m\n\u001b[1;32m-> 3229\u001b[0m     jdf \u001b[38;5;241m=\u001b[39m \u001b[38;5;28;43mself\u001b[39;49m\u001b[38;5;241;43m.\u001b[39;49m\u001b[43m_jdf\u001b[49m\u001b[38;5;241;43m.\u001b[39;49m\u001b[43mselect\u001b[49m\u001b[43m(\u001b[49m\u001b[38;5;28;43mself\u001b[39;49m\u001b[38;5;241;43m.\u001b[39;49m\u001b[43m_jcols\u001b[49m\u001b[43m(\u001b[49m\u001b[38;5;241;43m*\u001b[39;49m\u001b[43mcols\u001b[49m\u001b[43m)\u001b[49m\u001b[43m)\u001b[49m\n\u001b[0;32m   3230\u001b[0m     \u001b[38;5;28;01mreturn\u001b[39;00m DataFrame(jdf, \u001b[38;5;28mself\u001b[39m\u001b[38;5;241m.\u001b[39msparkSession)\n",
      "File \u001b[1;32mc:\\Users\\Usuario\\AppData\\Local\\Programs\\Python\\Python310\\lib\\site-packages\\py4j\\java_gateway.py:1322\u001b[0m, in \u001b[0;36mJavaMember.__call__\u001b[1;34m(self, *args)\u001b[0m\n\u001b[0;32m   1316\u001b[0m command \u001b[38;5;241m=\u001b[39m proto\u001b[38;5;241m.\u001b[39mCALL_COMMAND_NAME \u001b[38;5;241m+\u001b[39m\\\n\u001b[0;32m   1317\u001b[0m     \u001b[38;5;28mself\u001b[39m\u001b[38;5;241m.\u001b[39mcommand_header \u001b[38;5;241m+\u001b[39m\\\n\u001b[0;32m   1318\u001b[0m     args_command \u001b[38;5;241m+\u001b[39m\\\n\u001b[0;32m   1319\u001b[0m     proto\u001b[38;5;241m.\u001b[39mEND_COMMAND_PART\n\u001b[0;32m   1321\u001b[0m answer \u001b[38;5;241m=\u001b[39m \u001b[38;5;28mself\u001b[39m\u001b[38;5;241m.\u001b[39mgateway_client\u001b[38;5;241m.\u001b[39msend_command(command)\n\u001b[1;32m-> 1322\u001b[0m return_value \u001b[38;5;241m=\u001b[39m \u001b[43mget_return_value\u001b[49m\u001b[43m(\u001b[49m\n\u001b[0;32m   1323\u001b[0m \u001b[43m    \u001b[49m\u001b[43manswer\u001b[49m\u001b[43m,\u001b[49m\u001b[43m \u001b[49m\u001b[38;5;28;43mself\u001b[39;49m\u001b[38;5;241;43m.\u001b[39;49m\u001b[43mgateway_client\u001b[49m\u001b[43m,\u001b[49m\u001b[43m \u001b[49m\u001b[38;5;28;43mself\u001b[39;49m\u001b[38;5;241;43m.\u001b[39;49m\u001b[43mtarget_id\u001b[49m\u001b[43m,\u001b[49m\u001b[43m \u001b[49m\u001b[38;5;28;43mself\u001b[39;49m\u001b[38;5;241;43m.\u001b[39;49m\u001b[43mname\u001b[49m\u001b[43m)\u001b[49m\n\u001b[0;32m   1325\u001b[0m \u001b[38;5;28;01mfor\u001b[39;00m temp_arg \u001b[38;5;129;01min\u001b[39;00m temp_args:\n\u001b[0;32m   1326\u001b[0m     \u001b[38;5;28;01mif\u001b[39;00m \u001b[38;5;28mhasattr\u001b[39m(temp_arg, \u001b[38;5;124m\"\u001b[39m\u001b[38;5;124m_detach\u001b[39m\u001b[38;5;124m\"\u001b[39m):\n",
      "File \u001b[1;32mc:\\Users\\Usuario\\AppData\\Local\\Programs\\Python\\Python310\\lib\\site-packages\\pyspark\\errors\\exceptions\\captured.py:185\u001b[0m, in \u001b[0;36mcapture_sql_exception.<locals>.deco\u001b[1;34m(*a, **kw)\u001b[0m\n\u001b[0;32m    181\u001b[0m converted \u001b[38;5;241m=\u001b[39m convert_exception(e\u001b[38;5;241m.\u001b[39mjava_exception)\n\u001b[0;32m    182\u001b[0m \u001b[38;5;28;01mif\u001b[39;00m \u001b[38;5;129;01mnot\u001b[39;00m \u001b[38;5;28misinstance\u001b[39m(converted, UnknownException):\n\u001b[0;32m    183\u001b[0m     \u001b[38;5;66;03m# Hide where the exception came from that shows a non-Pythonic\u001b[39;00m\n\u001b[0;32m    184\u001b[0m     \u001b[38;5;66;03m# JVM exception message.\u001b[39;00m\n\u001b[1;32m--> 185\u001b[0m     \u001b[38;5;28;01mraise\u001b[39;00m converted \u001b[38;5;28;01mfrom\u001b[39;00m\u001b[38;5;250m \u001b[39m\u001b[38;5;28;01mNone\u001b[39;00m\n\u001b[0;32m    186\u001b[0m \u001b[38;5;28;01melse\u001b[39;00m:\n\u001b[0;32m    187\u001b[0m     \u001b[38;5;28;01mraise\u001b[39;00m\n",
      "\u001b[1;31mAnalysisException\u001b[0m: [UNRESOLVED_COLUMN.WITH_SUGGESTION] A column or function parameter with name `total_events` cannot be resolved. Did you mean one of the following? [`max_events`, `avg_events`, `min_events`, `stddev_events`].;\n'Aggregate [unresolvedalias(avg('total_events), Some(org.apache.spark.sql.Column$$Lambda/0x000001e8cae486b8@1c9083c0))]\n+- Aggregate [avg(total_events#196L) AS avg_events#200, stddev(cast(total_events#196L as double)) AS stddev_events#201, min(total_events#196L) AS min_events#203L, max(total_events#196L) AS max_events#205L]\n   +- Aggregate [user#19], [user#19, count(event_type#18) AS total_events#196L]\n      +- Relation [timestamp#17,event_type#18,user#19,ip#20,message#21] csv\n"
     ]
    }
   ],
   "source": [
    "\n",
    "# Identificar usuarios con actividad inusual\n",
    "def detect_suspicious_users(user_stats):\n",
    "    thresh = user_stats.select(avg(\"total_events\")).collect()[0][0] * 2\n",
    "    return user_stats.filter(col(\"total_events\") > thresh)\n",
    "\n",
    "detect_suspicious_users(user_stats).show()\n"
   ]
  },
  {
   "cell_type": "code",
   "execution_count": 50,
   "id": "3c71def6-60b9-4bec-bdd9-9157ce8949f2",
   "metadata": {},
   "outputs": [
    {
     "name": "stdout",
     "output_type": "stream",
     "text": [
      "Número estimado de usuarios únicos: 6\n"
     ]
    }
   ],
   "source": [
    "\n",
    "# Número estimado de usuarios únicos\n",
    "def count_unique_users(df):\n",
    "    return df.select(approx_count_distinct(\"user\")).collect()[0][0]\n",
    "\n",
    "print(f\"Número estimado de usuarios únicos: {count_unique_users(df)}\")\n"
   ]
  },
  {
   "cell_type": "code",
   "execution_count": 51,
   "id": "dd74dbf7-1bfa-460e-877f-06f6f686ce73",
   "metadata": {},
   "outputs": [
    {
     "name": "stdout",
     "output_type": "stream",
     "text": [
      "+---------------+------------+\n",
      "|             ip|total_events|\n",
      "+---------------+------------+\n",
      "|        8.8.8.8|           5|\n",
      "|     172.16.0.2|           4|\n",
      "|   192.168.1.10|           1|\n",
      "|   192.168.1.15|           1|\n",
      "|       10.0.0.1|           1|\n",
      "|185.199.108.153|           1|\n",
      "|   203.0.113.45|           1|\n",
      "+---------------+------------+\n",
      "\n"
     ]
    }
   ],
   "source": [
    "\n",
    "# Análisis de actividad por IP\n",
    "def analyze_ip_activity(df):\n",
    "    return df.groupBy(\"ip\").agg(count(\"event_type\").alias(\"total_events\")).orderBy(desc(\"total_events\"))\n",
    "\n",
    "analyze_ip_activity(df).show()\n"
   ]
  },
  {
   "cell_type": "code",
   "execution_count": 52,
   "id": "aa7bcc1e-49c6-41a0-87bb-d5f6d0c76e49",
   "metadata": {},
   "outputs": [
    {
     "name": "stdout",
     "output_type": "stream",
     "text": [
      "+---------+----------+----+---+-------+-------------+\n",
      "|timestamp|event_type|user| ip|message|recent_events|\n",
      "+---------+----------+----+---+-------+-------------+\n",
      "+---------+----------+----+---+-------+-------------+\n",
      "\n"
     ]
    }
   ],
   "source": [
    "\n",
    "# Detección de ráfagas de intentos de acceso fallidos\n",
    "def detect_potential_attacks(df):\n",
    "    time_window = Window.partitionBy(\"user\").orderBy(\"timestamp\").rowsBetween(-5, 0)\n",
    "    df = df.withColumn(\"recent_events\", count(\"event_type\").over(time_window))\n",
    "    return df.filter((col(\"event_type\") == \"LOGIN_FAILURE\") & (col(\"recent_events\") > 3))\n",
    "\n",
    "detect_potential_attacks(df).show()"
   ]
  },
  {
   "cell_type": "code",
   "execution_count": null,
   "id": "9a0aa4f5-d13f-4413-9382-feada4b8240a",
   "metadata": {},
   "outputs": [],
   "source": []
  }
 ],
 "metadata": {
  "kernelspec": {
   "display_name": "Python 3",
   "language": "python",
   "name": "python3"
  },
  "language_info": {
   "codemirror_mode": {
    "name": "ipython",
    "version": 3
   },
   "file_extension": ".py",
   "mimetype": "text/x-python",
   "name": "python",
   "nbconvert_exporter": "python",
   "pygments_lexer": "ipython3",
   "version": "3.10.0"
  }
 },
 "nbformat": 4,
 "nbformat_minor": 5
}
