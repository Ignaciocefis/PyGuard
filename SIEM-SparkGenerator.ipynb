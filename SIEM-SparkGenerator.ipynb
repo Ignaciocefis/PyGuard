{
 "cells": [
  {
   "cell_type": "code",
   "execution_count": 1,
   "id": "ee165260-5354-4ee8-9688-3a080052cc30",
   "metadata": {},
   "outputs": [],
   "source": [
    "#Bibliotecas necesarias :\n",
    "\n",
    "#!pip install pyspark kafka-python pandas matplotlib\n",
    "\n",
    "from pyspark.sql import SparkSession\n",
    "from pyspark.sql.functions import col, count, window, desc, lag, avg, stddev, min, max, sum, approx_count_distinct\n",
    "from pyspark.sql.window import Window\n",
    "from kafka import KafkaProducer\n",
    "from kafka import KafkaConsumer\n",
    "\n",
    "import os\n",
    "import csv\n",
    "import random\n",
    "import datetime\n",
    "import json\n",
    "import time"
   ]
  },
  {
   "cell_type": "code",
   "execution_count": 33,
   "id": "4ff0a86e-d35b-40df-ac45-1e28baa897fb",
   "metadata": {},
   "outputs": [
    {
     "name": "stdout",
     "output_type": "stream",
     "text": [
      "Enviando logs a Kafka topic 'logs'...\n",
      "Interrumpido por el usuario\n"
     ]
    }
   ],
   "source": [
    "\n",
    "# Configura tu Kafka\n",
    "KAFKA_TOPIC = 'logs'\n",
    "KAFKA_BROKER = 'localhost:9093'  # Cambia esto si usas Docker o red externa\n",
    "\n",
    "# Inicializar el productor\n",
    "producer = KafkaProducer(\n",
    "    bootstrap_servers=KAFKA_BROKER,\n",
    "    value_serializer=lambda v: json.dumps(v).encode('utf-8')\n",
    ")\n",
    "\n",
    "# Tipos de eventos\n",
    "event_types = [\n",
    "    ('INFO', 0.6),\n",
    "    ('WARNING', 0.15),\n",
    "    ('ERROR', 0.1),\n",
    "    ('DEBUG', 0.1),\n",
    "    ('LOGIN_FAILURE', 0.05)\n",
    "]\n",
    "\n",
    "users = ['admin', 'user1', 'user2', 'guest', 'root', 'test']\n",
    "ips = [\n",
    "    '192.168.1.10', '192.168.1.15', '10.0.0.1', '172.16.0.2',\n",
    "    '203.0.113.45', '8.8.8.8', '185.199.108.153'\n",
    "]\n",
    "\n",
    "def choose_event_type():\n",
    "    return random.choices([e[0] for e in event_types], weights=[e[1] for e in event_types])[0]\n",
    "\n",
    "def generate_log():\n",
    "    timestamp = datetime.datetime.now().strftime('%Y-%m-%d %H:%M:%S')\n",
    "    event_type = choose_event_type()\n",
    "    user = random.choice(users)\n",
    "    ip = random.choice(ips)\n",
    "\n",
    "    if event_type == 'LOGIN_FAILURE':\n",
    "        message = f\"Intento de acceso fallido para usuario {user} desde {ip}\"\n",
    "    elif event_type == 'ERROR':\n",
    "        message = f\"Error critico en el sistema detectado por el usuario {user}\"\n",
    "    elif event_type == 'WARNING':\n",
    "        message = f\"Posible anomalia detectada desde la IP {ip}\"\n",
    "    elif event_type == 'DEBUG':\n",
    "        message = f\"Modo depuración activo por usuario {user}\"\n",
    "    else:\n",
    "        message = f\"Evento normal registrado para usuario {user} desde {ip}\"\n",
    "\n",
    "    return {\n",
    "        'timestamp': timestamp,\n",
    "        'event_type': event_type,\n",
    "        'user': user,\n",
    "        'ip': ip,\n",
    "        'message': message\n",
    "    }\n",
    "\n",
    "# Bucle infinito para enviar logs\n",
    "try:\n",
    "    print(f\"Enviando logs a Kafka topic '{KAFKA_TOPIC}'...\")\n",
    "    while True:\n",
    "        log = generate_log()\n",
    "        producer.send(KAFKA_TOPIC, value=log)\n",
    "        #print(\"Enviado:\", log)\n",
    "        time.sleep(1)  # Esperar 1 segundo entre logs (ajustable)\n",
    "except KeyboardInterrupt:\n",
    "    print(\"Interrumpido por el usuario\")\n",
    "finally:\n",
    "    producer.close()\n"
   ]
  },
  {
   "cell_type": "code",
   "execution_count": null,
   "id": "9a0aa4f5-d13f-4413-9382-feada4b8240a",
   "metadata": {},
   "outputs": [],
   "source": []
  }
 ],
 "metadata": {
  "kernelspec": {
   "display_name": "Python 3 (ipykernel)",
   "language": "python",
   "name": "python3"
  },
  "language_info": {
   "codemirror_mode": {
    "name": "ipython",
    "version": 3
   },
   "file_extension": ".py",
   "mimetype": "text/x-python",
   "name": "python",
   "nbconvert_exporter": "python",
   "pygments_lexer": "ipython3",
   "version": "3.13.2"
  }
 },
 "nbformat": 4,
 "nbformat_minor": 5
}
